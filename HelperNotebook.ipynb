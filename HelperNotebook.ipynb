{
 "cells": [
  {
   "cell_type": "code",
   "execution_count": 1,
   "metadata": {},
   "outputs": [],
   "source": [
    "import torch\n",
    "from torch.nn.functional import softmax\n",
    "from gpt2 import GPT2LanguageModel\n",
    "import numpy as np\n",
    "from tqdm import tqdm_notebook\n",
    "import time\n",
    "\n",
    "model_117M = GPT2LanguageModel(model_name='117M')\n",
    "model_345M = GPT2LanguageModel(model_name='345M')\n",
    "\n",
    "model_name = \"345M\"\n",
    "model = model_117M if model_name == \"117M\" else model_345M"
   ]
  },
  {
   "cell_type": "code",
   "execution_count": 2,
   "metadata": {},
   "outputs": [
    {
     "name": "stdout",
     "output_type": "stream",
     "text": [
      "28709\n",
      "28586\n"
     ]
    }
   ],
   "source": [
    "### Clean the GPT prompts\n",
    "with open(\"GPT prompts.txt\", \"r\") as f:\n",
    "    prompts = f.readlines()\n",
    "prompts = [prompts[i].strip() for i in range(len(prompts))]\n",
    "print(len(prompts))\n",
    "print(len(list(set(prompts))))\n",
    "reduced_prompts = list(set(prompts))\n",
    "with open(\"GPT prompts stripped.txt\", \"w\") as f:\n",
    "    for p in reduced_prompts:\n",
    "        f.write(p+\"\\n\")"
   ]
  },
  {
   "cell_type": "code",
   "execution_count": 18,
   "metadata": {},
   "outputs": [
    {
     "name": "stdout",
     "output_type": "stream",
     "text": [
      "\n"
     ]
    }
   ],
   "source": [
    "### Write the scripts\n",
    "print()\n",
    "steps = 1500\n",
    "for line in range(0, 29000, steps):\n",
    "    script = f\"\"\"#!/bin/bash -l\n",
    "\n",
    "# Number of Nodes\n",
    "#SBATCH -N 1\n",
    "\n",
    "#SBATCH -t 20:00:00\n",
    "\n",
    "#SBATCH --mail-type=ALL\n",
    "\n",
    "#SBATCH --mail-user=kevin.trebing@ucdconnect.ie\n",
    "\n",
    "#SBATCH --job-name=prompts{line}-{line+steps}\n",
    "\n",
    "cd $SLURM_SUBMIT_DIR\n",
    "\n",
    "# load the required modules\n",
    "module load pytorch\n",
    "\n",
    "# execute the code\n",
    "python3 probabilities.py {line}\"\"\"\n",
    "    \n",
    "    with open(f\"scripts/prompts{line}.sh\", \"w\", newline=\"\\n\") as f:\n",
    "        f.write(script)\n"
   ]
  },
  {
   "cell_type": "code",
   "execution_count": 19,
   "metadata": {},
   "outputs": [],
   "source": [
    "line = 1337\n",
    "script = f\"\"\"#!/bin/bash -l\n",
    "\n",
    "# Number of Nodes\n",
    "#SBATCH -N 1\n",
    "\n",
    "#SBATCH -t 20:00:00\n",
    "\n",
    "#SBATCH --mail-type=ALL\n",
    "\n",
    "#SBATCH --mail-user=kevin.trebing@ucdconnect.ie\n",
    "\n",
    "#SBATCH --job-name=prompts{line}-{line+steps}\n",
    "\n",
    "cd $SLURM_SUBMIT_DIR\n",
    "\n",
    "# load the required modules\n",
    "module load pytorch\n",
    "\n",
    "# execute the code\n",
    "python3 probabilities.py {line}\"\"\"\n",
    "    \n",
    "with open(f\"scripts/testScript{line}.sh\", \"w\", newline=\"\\n\") as f:\n",
    "    f.write(script)"
   ]
  },
  {
   "cell_type": "code",
   "execution_count": null,
   "metadata": {},
   "outputs": [],
   "source": []
  }
 ],
 "metadata": {
  "kernelspec": {
   "display_name": "Python 3",
   "language": "python",
   "name": "python3"
  },
  "language_info": {
   "codemirror_mode": {
    "name": "ipython",
    "version": 3
   },
   "file_extension": ".py",
   "mimetype": "text/x-python",
   "name": "python",
   "nbconvert_exporter": "python",
   "pygments_lexer": "ipython3",
   "version": "3.7.3"
  }
 },
 "nbformat": 4,
 "nbformat_minor": 2
}
